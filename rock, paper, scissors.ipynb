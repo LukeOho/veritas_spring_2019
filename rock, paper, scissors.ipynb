{
 "cells": [
  {
   "cell_type": "code",
   "execution_count": null,
   "metadata": {},
   "outputs": [],
   "source": [
    "user = input('rock, scissors, paper ')\n",
    "print(user)\n",
    "import random\n",
    "computer = random.randint(1,3)\n",
    "print(computer)\n",
    "if computer == 1:\n",
    "    computer = 'rock'\n",
    "else: \n",
    "    if computer == 2:\n",
    "        computer = 'scissors'\n",
    "    else:\n",
    "        if computer == 3:\n",
    "            computer = 'paper'\n",
    "print(computer)\n",
    "if user == 'rock' and computer == 'scissors':\n",
    "    print('Winner')\n",
    "if user == 'rock' and computer == 'paper':\n",
    "    print('loser')\n",
    "if user == 'rock' and computer == 'rock':\n",
    "    print('tie')\n",
    "if user == 'scissors' and computer == 'rock':\n",
    "    print('loser')\n",
    "if user == 'scissors' and computer == 'scissors':\n",
    "    print('tie')\n",
    "if user == 'scissors' and computer == 'paper':\n",
    "    print('winner')\n",
    "if user == 'paper' and computer == 'rock':\n",
    "    print('winner')\n",
    "if user == 'paper' and computer == 'scissors':\n",
    "    print('loser')\n",
    "if user == 'paper' and computer == 'paper':\n",
    "    print('winner')"
   ]
  }
 ],
 "metadata": {
  "kernelspec": {
   "display_name": "Python 3",
   "language": "python",
   "name": "python3"
  },
  "language_info": {
   "codemirror_mode": {
    "name": "ipython",
    "version": 3
   },
   "file_extension": ".py",
   "mimetype": "text/x-python",
   "name": "python",
   "nbconvert_exporter": "python",
   "pygments_lexer": "ipython3",
   "version": "3.7.1"
  }
 },
 "nbformat": 4,
 "nbformat_minor": 2
}
