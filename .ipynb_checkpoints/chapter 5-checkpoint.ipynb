{
 "cells": [
  {
   "cell_type": "markdown",
   "metadata": {},
   "source": [
    "Use a for statement to print 10 random numbers."
   ]
  },
  {
   "cell_type": "code",
   "execution_count": 1,
   "metadata": {},
   "outputs": [
    {
     "name": "stdout",
     "output_type": "stream",
     "text": [
      "0.2825794614359951\n",
      "0.18768948996104484\n",
      "0.6729754866971503\n",
      "0.5896334986503752\n",
      "0.8632385048060783\n",
      "0.6193487878596222\n",
      "0.6043017144638377\n",
      "0.8689421961040424\n",
      "0.37402275684437936\n",
      "0.802210186508438\n"
     ]
    }
   ],
   "source": [
    "import random\n",
    "\n",
    "howmany = 10\n",
    "for counter in range(howmany):\n",
    "    arandom = random.random()\n",
    "    print(arandom)"
   ]
  },
  {
   "cell_type": "markdown",
   "metadata": {},
   "source": [
    "Repeat the above exercise but this time print 10 random numbers between 25 and 35, inclusive."
   ]
  },
  {
   "cell_type": "code",
   "execution_count": 9,
   "metadata": {
    "scrolled": true
   },
   "outputs": [
    {
     "name": "stdout",
     "output_type": "stream",
     "text": [
      "27\n",
      "26\n",
      "30\n",
      "34\n",
      "27\n",
      "28\n",
      "26\n",
      "29\n",
      "33\n",
      "33\n"
     ]
    }
   ],
   "source": [
    "import random\n",
    "for i in range(10):\n",
    "    diceThrow = random.randrange(25,35)\n",
    "    print(diceThrow)"
   ]
  },
  {
   "cell_type": "code",
   "execution_count": null,
   "metadata": {},
   "outputs": [],
   "source": []
  }
 ],
 "metadata": {
  "kernelspec": {
   "display_name": "Python 3",
   "language": "python",
   "name": "python3"
  },
  "language_info": {
   "codemirror_mode": {
    "name": "ipython",
    "version": 3
   },
   "file_extension": ".py",
   "mimetype": "text/x-python",
   "name": "python",
   "nbconvert_exporter": "python",
   "pygments_lexer": "ipython3",
   "version": "3.7.1"
  }
 },
 "nbformat": 4,
 "nbformat_minor": 2
}
